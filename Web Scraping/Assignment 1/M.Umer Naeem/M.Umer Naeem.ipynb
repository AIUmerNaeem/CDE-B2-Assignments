{
 "cells": [
  {
   "cell_type": "code",
   "execution_count": 3,
   "id": "1d190775",
   "metadata": {},
   "outputs": [],
   "source": [
    "import requests\n",
    "from bs4 import BeautifulSoup\n",
    "import re"
   ]
  },
  {
   "cell_type": "code",
   "execution_count": 4,
   "id": "dfb2d3fa",
   "metadata": {},
   "outputs": [],
   "source": [
    "# The URL to scrape\n",
    "url = 'https://www.thriftbooks.com/browse/?13362col#b.f.t[]=13362&b.col&b.list'"
   ]
  },
  {
   "cell_type": "code",
   "execution_count": 5,
   "id": "acfdab89",
   "metadata": {},
   "outputs": [],
   "source": [
    "# Request the content of the page\n",
    "content = requests.get(url).content\n",
    "soup = BeautifulSoup(content, 'html.parser')"
   ]
  },
  {
   "cell_type": "code",
   "execution_count": 6,
   "id": "b42cb776",
   "metadata": {},
   "outputs": [],
   "source": [
    "# Extract the JavaScript block\n",
    "script_content = soup.find_all('script')\n",
    "data = script_content[12].string"
   ]
  },
  {
   "cell_type": "code",
   "execution_count": 7,
   "id": "c1cf7b21",
   "metadata": {},
   "outputs": [],
   "source": [
    "# Example: Regex to extract book titles (you can change this to extract other data)\n",
    "book_titles = re.findall(r'\"title\":\"(.*?)\"', data)"
   ]
  },
  {
   "cell_type": "code",
   "execution_count": 8,
   "id": "70b601c2",
   "metadata": {},
   "outputs": [
    {
     "name": "stdout",
     "output_type": "stream",
     "text": [
      "[]\n"
     ]
    }
   ],
   "source": [
    "# Print the extracted book titles (or any other data you need)\n",
    "print(book_titles)"
   ]
  },
  {
   "cell_type": "code",
   "execution_count": null,
   "id": "f05e95a2",
   "metadata": {},
   "outputs": [],
   "source": []
  }
 ],
 "metadata": {
  "kernelspec": {
   "display_name": "base",
   "language": "python",
   "name": "python3"
  },
  "language_info": {
   "codemirror_mode": {
    "name": "ipython",
    "version": 3
   },
   "file_extension": ".py",
   "mimetype": "text/x-python",
   "name": "python",
   "nbconvert_exporter": "python",
   "pygments_lexer": "ipython3",
   "version": "3.12.7"
  }
 },
 "nbformat": 4,
 "nbformat_minor": 5
}
