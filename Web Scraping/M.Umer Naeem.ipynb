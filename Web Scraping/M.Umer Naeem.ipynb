{
 "cells": [
  {
   "cell_type": "code",
   "execution_count": 29,
   "id": "1d190775",
   "metadata": {},
   "outputs": [],
   "source": [
    "import requests\n",
    "from bs4 import BeautifulSoup\n",
    "\n",
    "# URL\n",
    "url = 'https://www.thriftbooks.com/browse/?13362col#b.s=mostPopular-desc&b.p=1&b.pp=50&b.col&b.f.t%5B%5D=13362&b.list'\n",
    "\n",
    "# Send GET request to the page\n",
    "response = requests.get(url)\n",
    "\n",
    "# Parse the page with BeautifulSoup\n",
    "soup = BeautifulSoup(response.text, 'html.parser')\n",
    "\n",
    "# List to store all book data\n",
    "books_data = []\n",
    "\n",
    "# Find all book containers\n",
    "books = soup.find_all('div', class_='SearchResultItem')\n",
    "\n",
    "# Loop through each book and extract data\n",
    "for book in books:\n",
    "    # Extract title, author, price, and rating for each book\n",
    "    title = book.find('a', class_='SearchResultItem-title')\n",
    "    title = title.text.strip() if title else 'N/A'\n",
    "    \n",
    "    author = book.find('span', class_='SearchResultItem-author')\n",
    "    author = author.text.strip() if author else 'N/A'\n",
    "    \n",
    "    price = book.find('span', class_='SearchResultItem-price')\n",
    "    price = price.text.strip() if price else 'N/A'\n",
    "    \n",
    "    rating = book.find('div', class_='Rating-stars')\n",
    "    rating = rating['aria-label'] if rating else 'N/A'\n",
    "\n",
    "    # Append book data to the list\n",
    "    books_data.append({\n",
    "        'Title': title,\n",
    "        'Author': author,\n",
    "        'Price': price,\n",
    "        'Rating': rating\n",
    "    })\n",
    "\n",
    "# Print the scraped book data (no saving to CSV)\n",
    "for book in books_data:\n",
    "    print(book)\n"
   ]
  },
  {
   "cell_type": "code",
   "execution_count": null,
   "id": "58a58086",
   "metadata": {},
   "outputs": [],
   "source": []
  }
 ],
 "metadata": {
  "kernelspec": {
   "display_name": "base",
   "language": "python",
   "name": "python3"
  },
  "language_info": {
   "codemirror_mode": {
    "name": "ipython",
    "version": 3
   },
   "file_extension": ".py",
   "mimetype": "text/x-python",
   "name": "python",
   "nbconvert_exporter": "python",
   "pygments_lexer": "ipython3",
   "version": "3.12.7"
  }
 },
 "nbformat": 4,
 "nbformat_minor": 5
}
